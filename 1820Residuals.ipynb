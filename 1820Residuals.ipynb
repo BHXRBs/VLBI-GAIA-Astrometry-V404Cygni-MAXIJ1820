{
 "cells": [
  {
   "cell_type": "code",
   "execution_count": 8,
   "id": "68011016-fd1d-4122-9fc3-921a497d2cad",
   "metadata": {},
   "outputs": [
    {
     "name": "stdout",
     "output_type": "stream",
     "text": [
      "Random seed: 1924830957\n"
     ]
    }
   ],
   "source": [
    "import numpy as np\n",
    "import matplotlib.pyplot as plt\n",
    "import astropy.units as u\n",
    "from astropy.table import Table\n",
    "import pymc3 as pm\n",
    "import skymotion\n",
    "import skymotionModified\n",
    "import skyfield\n",
    "import corner\n",
    "from scipy import optimize\n",
    "from astropy.coordinates import SkyCoord\n",
    "from tqdm import tqdm\n",
    "\n",
    "##set random seed\n",
    "rand_seed = np.random.randint(0,2**32-1)\n",
    "## note jet angle is defined opposite to convention \n",
    "mc_iterations = 100\n",
    "print(\"Random seed:\", rand_seed)\n",
    "%matplotlib inline"
   ]
  },
  {
   "cell_type": "code",
   "execution_count": 9,
   "id": "383b83eb-9a25-430a-a074-6c005da2e278",
   "metadata": {},
   "outputs": [],
   "source": [
    "def mc_normal_sampler(mu, sigma):\n",
    "    s = np.random.normal(mu, sigma, 10000)\n",
    "    output = float(np.random.choice(s,1)[0])\n",
    "    return output\n",
    "\n",
    "def mc_trace_sampler(trace):\n",
    "    output  = float(np.random.choice(trace,1)[0])\n",
    "    return output\n",
    "\n",
    "def perturbObsBasedOnErr(obs_alpha, obs_alpha_err, obs_delta, obs_delta_err):\n",
    "    \n",
    "    output_alpha = []\n",
    "    output_delta = []\n",
    "    \n",
    "    for i in range(len(obs_alpha)):\n",
    "        output_alpha.append(mc_normal_sampler(obs_alpha[i], obs_alpha_err[i]))\n",
    "        output_delta.append(mc_normal_sampler(obs_delta[i], obs_delta_err[i]))\n",
    "        \n",
    "    return np.array(output_alpha), np.array(output_delta)"
   ]
  },
  {
   "cell_type": "code",
   "execution_count": 10,
   "id": "2601ec55-9852-4c9c-9f83-48484341112a",
   "metadata": {},
   "outputs": [],
   "source": [
    "J1820_data = Table.read(\"./MAXIJ1820_positions_global_model.txt\", format=\"ascii\",names=['MJD','MJD_error','RA','RAs_er','Dec','Decs_er',\n",
    "                         'Telescope','Band','Calib'])\n",
    "J1820_calib = Table.read('MAXIJ1820_calib_data.txt',format='ascii')"
   ]
  },
  {
   "cell_type": "code",
   "execution_count": 11,
   "id": "769a2ffd-28a5-490c-a8a1-b5982801718b",
   "metadata": {},
   "outputs": [],
   "source": [
    "J1820_data.add_column(Table.Column(data=np.full(len(J1820_data), np.nan), name='sys_ra'))\n",
    "J1820_data.add_column(Table.Column(data=np.full(len(J1820_data), np.nan), name='sys_dec'))\n",
    "\n",
    "J1820_data.add_column(Table.Column(data=np.full(len(J1820_data), np.nan), name='core_shift_ra'))\n",
    "J1820_data.add_column(Table.Column(data=np.full(len(J1820_data), np.nan), name='core_shift_dec'))\n",
    "\n",
    "J1820_data.add_column(Table.Column(data=np.full(len(J1820_data), np.nan), name='core_shift_ra_er'))\n",
    "J1820_data.add_column(Table.Column(data=np.full(len(J1820_data), np.nan), name='core_shift_dec_er'))\n",
    "\n",
    "for obs in J1820_data:\n",
    "    obs_cal = J1820_calib[(J1820_calib['Calibrator'] == obs['Calib']) & (J1820_calib['Band'] == obs['Band'])]\n",
    "    obs['core_shift_ra'] = obs_cal['offset_RA']\n",
    "    obs['core_shift_dec'] = obs_cal['offset_dec']\n",
    "    obs['core_shift_ra_er'] = obs_cal['offset_RA_er']\n",
    "    obs['core_shift_dec_er'] = obs_cal['offset_dec_er']\n",
    "    if obs['Telescope'] == 'VLBA':\n",
    "        obs['sys_ra'] = np.sqrt(obs_cal['sys_VLBA_RA']**2 + obs_cal['Ion.sys.ra']**2)\n",
    "        obs['sys_dec'] = np.sqrt(obs_cal['sys_VLBA_DEC']**2 + obs_cal['Ion.sys.dec']**2)\n",
    "    elif obs['Telescope'] == 'EVN':\n",
    "        obs['sys_ra'] = np.sqrt(obs_cal['sys_EVN_RA']**2 + obs_cal['Ion.sys.ra']**2)\n",
    "        obs['sys_dec'] = np.sqrt(obs_cal['sys_EVN_DEC']**2 + obs_cal['Ion.sys.dec']**2)\n"
   ]
  },
  {
   "cell_type": "code",
   "execution_count": 12,
   "id": "c9cbb660-f5e3-4827-88a1-32bc8f38e3fb",
   "metadata": {},
   "outputs": [],
   "source": [
    "J1820_time = J1820_data['MJD'].data\n",
    "J1820_alpha = SkyCoord(J1820_data['RA'], J1820_data['Dec'], frame='icrs', unit=(u.hourangle, u.deg)).ra.degree\n",
    "J1820_delta = SkyCoord(J1820_data['RA'], J1820_data['Dec'], frame='icrs', unit=(u.hourangle, u.deg)).dec.degree\n",
    "## NOTE: we do not correct alpha for projection (cos(delta)) here and do that inside the MCMC fit\n",
    "## this is beacuse it is more accurate to correct it during MCMC fit as we then update delta with the core shift as well\n",
    "\n",
    "## core shifts are in *arcsecs* (NOT SECONDS OF ARC)\n",
    "J1820_alpha += J1820_data['core_shift_ra'] * 1e-3 / 3600\n",
    "J1820_delta += J1820_data['core_shift_dec'] * 1e-3 / 3600\n",
    "\n",
    "J1820_alpha_err = ((J1820_data['RAs_er'].data/ 3600.0 * 15 * np.cos(np.radians(J1820_delta)))**2 + \n",
    "                            (J1820_data['sys_ra'].data*1e-6/3600)**2 + \n",
    "                            (J1820_data['core_shift_ra_er'].data*1e-6/3600)**2)**0.5\n",
    "\n",
    "J1820_delta_err = ((J1820_data['Decs_er'].data/ 3600.0)**2 + \n",
    "                            (J1820_data['sys_dec'].data*1e-6/3600)**2 + \n",
    "                            (J1820_data['core_shift_dec_er'].data*1e-6/3600)**2)**0.5\n",
    "\n"
   ]
  },
  {
   "cell_type": "code",
   "execution_count": 13,
   "id": "ba4f0680-480e-4665-a9f6-54031f034aac",
   "metadata": {},
   "outputs": [],
   "source": [
    "J1820_mask = []\n",
    "\n",
    "for freq in J1820_data['Band']:\n",
    "    if freq == 5:\n",
    "        J1820_mask.append(True)\n",
    "    else:\n",
    "        J1820_mask.append(False)\n",
    "J1820_mask = np.array(J1820_mask)"
   ]
  },
  {
   "cell_type": "code",
   "execution_count": 14,
   "id": "d3ee18bb-d99c-48b5-8a82-37832f760165",
   "metadata": {},
   "outputs": [
    {
     "name": "stderr",
     "output_type": "stream",
     "text": [
      "/home/steve/miniconda3/envs/bh/lib/python3.7/site-packages/ipykernel_launcher.py:59: FutureWarning: In v4.0, pm.sample will return an `arviz.InferenceData` object instead of a `MultiTrace` by default. You can pass return_inferencedata=True or return_inferencedata=False to be safe and silence this warning.\n",
      "Multiprocess sampling (12 chains in 12 jobs)\n",
      "NUTS: [dec shift, ra shift, pm delta, pm alpha, parallax, delta 0, alpha 0]\n"
     ]
    },
    {
     "data": {
      "text/html": [
       "\n",
       "    <div>\n",
       "        <style>\n",
       "            /* Turns off some styling */\n",
       "            progress {\n",
       "                /* gets rid of default border in Firefox and Opera. */\n",
       "                border: none;\n",
       "                /* Needs to be in here for Safari polyfill so background images work as expected. */\n",
       "                background-size: auto;\n",
       "            }\n",
       "            .progress-bar-interrupted, .progress-bar-interrupted::-webkit-progress-bar {\n",
       "                background: #F44336;\n",
       "            }\n",
       "        </style>\n",
       "      <progress value='132000' class='' max='132000' style='width:300px; height:20px; vertical-align: middle;'></progress>\n",
       "      100.00% [132000/132000 00:44<00:00 Sampling 12 chains, 0 divergences]\n",
       "    </div>\n",
       "    "
      ],
      "text/plain": [
       "<IPython.core.display.HTML object>"
      ]
     },
     "metadata": {},
     "output_type": "display_data"
    },
    {
     "name": "stderr",
     "output_type": "stream",
     "text": [
      "Sampling 12 chains for 1_000 tune and 10_000 draw iterations (12_000 + 120_000 draws total) took 46 seconds.\n"
     ]
    }
   ],
   "source": [
    "with pm.Model() as uniformed_model:\n",
    "    \n",
    "    ra_0_guess = J1820_alpha.mean()\n",
    "    dec_0_guess = J1820_delta.mean()\n",
    "\n",
    "    \n",
    "    alpha_0_prior = pm.Uniform('alpha 0', lower=ra_0_guess-0.2/3600, upper=ra_0_guess+0.2/3600)\n",
    "    delta_0_prior = pm.Uniform('delta 0', lower=dec_0_guess-0.2/3600, upper=dec_0_guess+0.2/3600)\n",
    "    \n",
    "    parallax_prior = pm.Uniform('parallax', lower=0.1, upper=0.9)\n",
    "    pm_alpha_prior = pm.Uniform('pm alpha', lower=-20.0, upper=20.0)\n",
    "    pm_delta_prior = pm.Uniform('pm delta', lower=-20.0, upper=20.0)\n",
    "    \n",
    "    ra_core_shift_prior = pm.Uniform('ra shift', lower=-1, upper=1) ## in deg (to prevent chain failing)\n",
    "    dec_core_shift_prior = pm.Uniform('dec shift', lower=-1, upper=1) ## in deg\n",
    "    \n",
    "    # orbital components:\n",
    "    orb_Omega_prior = 0                                                                           # In degrees\n",
    "    orb_a_prior = 0                                                                               # In milliarcsec\n",
    "    orb_omega_prior = 0                                                                           # In degrees\n",
    "    orb_i_prior = 0                                                                               # In degrees\n",
    "    orb_T_0_prior = 0                                                                             # MJD\n",
    "    orb_P_prior = 0                                                                               # in days\n",
    "    orb_e_prior = 0                                                                               # unitless\n",
    "    \n",
    "    #####\n",
    "    \n",
    "    ## apply core shift to obs\n",
    "    J1820_alpha_coreshifted = J1820_alpha + J1820_mask*ra_core_shift_prior\n",
    "    J1820_delta_coreshifted = J1820_delta + J1820_mask*dec_core_shift_prior    \n",
    "    # Expected values for RA and Dec:\n",
    "    \n",
    "    expected_ra, expected_dec = skymotionModified.total_motion(t = J1820_time,\n",
    "                                             alpha = J1820_alpha_coreshifted,\n",
    "                                             delta = J1820_delta_coreshifted,\n",
    "                                             alpha_0 = alpha_0_prior,\n",
    "                                             delta_0 = delta_0_prior,\n",
    "                                             pm_alpha = pm_alpha_prior,\n",
    "                                             pm_delta = pm_delta_prior,\n",
    "                                             parallax = parallax_prior,\n",
    "                                             orb_T_0 = orb_T_0_prior,\n",
    "                                             orb_P = orb_P_prior,\n",
    "                                             orb_e = orb_e_prior,\n",
    "                                             orb_i = orb_i_prior,\n",
    "                                             orb_omega = orb_omega_prior,\n",
    "                                             orb_Omega = orb_Omega_prior,\n",
    "                                             orb_a = orb_a_prior,\n",
    "                                             binary_orbit = False)\n",
    "    \n",
    "    # Observed quantities:\n",
    "    fitting_ra = pm.Normal('ra', mu = expected_ra, \n",
    "                           sd = J1820_alpha_err * np.cos(J1820_delta_coreshifted*np.pi/180), \n",
    "                           observed = J1820_alpha_coreshifted * np.cos(J1820_delta_coreshifted*np.pi/180))\n",
    "    \n",
    "    fitting_dec = pm.Normal('dec', mu = expected_dec, \n",
    "                            sd = J1820_delta_err, \n",
    "                            observed = J1820_delta_coreshifted)\n",
    "    step_method = pm.NUTS()\n",
    "    J1820_trace_2D = pm.sample(10000, chains=12, cores=12, tune=1000, random_seed=rand_seed, step=step_method)\n",
    "    \n"
   ]
  },
  {
   "cell_type": "code",
   "execution_count": 15,
   "id": "ab166032-270c-40d7-8ea9-c928ca36c373",
   "metadata": {},
   "outputs": [
    {
     "name": "stdout",
     "output_type": "stream",
     "text": [
      "The determined core-shift for J1820 offsets are\n",
      "ra  nu : -0.03231253964397496 mas\n",
      "ra  sd : 0.03964840739149028 mas\n",
      "dec nu : 0.02805967098673534 mas\n",
      "dec sd : 0.08457453711616704 mas\n"
     ]
    }
   ],
   "source": [
    "print(\"The determined core-shift for J1820 offsets are\")\n",
    "print('ra  nu : {} mas'.format(np.median(J1820_trace_2D['ra shift'])*3.6e6))\n",
    "print('ra  sd : {} mas'.format(np.std(J1820_trace_2D['ra shift'])*3.6e6))\n",
    "print('dec nu : {} mas'.format(np.median(J1820_trace_2D['dec shift'])*3.6e6))\n",
    "print('dec sd : {} mas'.format(np.std(J1820_trace_2D['dec shift'])*3.6e6))"
   ]
  },
  {
   "cell_type": "code",
   "execution_count": 16,
   "id": "19dcf167-b78c-48a0-a248-9685e7120158",
   "metadata": {},
   "outputs": [],
   "source": [
    "J1820_alpha_coreshifted = J1820_alpha + J1820_mask*np.median(J1820_trace_2D['ra shift'])\n",
    "J1820_delta_coreshifted = J1820_delta + J1820_mask*np.median(J1820_trace_2D['dec shift'])\n",
    "## add errors in quadrature\n",
    "J1820_alpha_err_coreshifted = np.sqrt(J1820_alpha_err**2 + np.std(J1820_trace_2D['ra shift'])**2)\n",
    "J1820_delta_err_coreshifted = np.sqrt(J1820_delta_err**2 + np.std(J1820_trace_2D['dec shift'])**2)"
   ]
  },
  {
   "cell_type": "code",
   "execution_count": 19,
   "id": "66069c6b-3c75-4e58-af9d-67c5e6706229",
   "metadata": {},
   "outputs": [
    {
     "name": "stderr",
     "output_type": "stream",
     "text": [
      "100%|██████████| 100/100 [00:00<00:00, 100.16it/s]\n"
     ]
    },
    {
     "data": {
      "image/png": "[encoded data removed]",
      "text/plain": [
       "<Figure size 864x432 with 2 Axes>"
      ]
     },
     "metadata": {
      "needs_background": "light"
     },
     "output_type": "display_data"
    }
   ],
   "source": [
    "hfont = {'fontname':'Helvetica', 'size':15}\n",
    "J1820_jet_angle = -26 ## it is 64 in literature\n",
    "J1820_c_band_mask = np.invert(np.copy(J1820_mask))\n",
    "J1820_ra_residual_trace = []\n",
    "J1820_dec_residual_trace = []\n",
    "J1820_ra_parallax_signal_trace = []\n",
    "J1820_dec_parallax_signal_trace = []\n",
    "J1820_perp_trace = []\n",
    "J1820_para_trace = []\n",
    "\n",
    "for i in tqdm(range(mc_iterations)):\n",
    "    \n",
    "    ## perturb observation\n",
    "    J1820_alpha, J1820_delta = perturbObsBasedOnErr(J1820_alpha_coreshifted, J1820_alpha_err_coreshifted,\\\n",
    "                                                J1820_delta_coreshifted, J1820_delta_err_coreshifted)\n",
    "    \n",
    "    J1820_time = np.copy(J1820_time)\n",
    "    \n",
    "    ## perturb proper motion and parallax\n",
    "    pm_alpha_deg = mc_trace_sampler(J1820_trace_2D['pm alpha']) / 3.6e6 / 365.25    \n",
    "    pm_delta_deg = mc_trace_sampler(J1820_trace_2D['pm delta']) / 3.6e6 / 365.25    \n",
    "    parallax_deg = mc_trace_sampler(J1820_trace_2D['parallax']) / 3.6e6\n",
    "    alpha_0 = mc_trace_sampler(J1820_trace_2D['alpha 0'])\n",
    "    delta_0 = mc_trace_sampler(J1820_trace_2D['delta 0'])\n",
    "    \n",
    "    ## compute proper motion and residuals\n",
    "    frac_alpha, frac_delta = skymotion.frac_parallax(J1820_time, J1820_alpha, J1820_delta)\n",
    "    ref_t = skymotion.t_0(J1820_time)\n",
    "    fit_ra_proper = alpha_0 * np.cos(np.radians(J1820_delta)) + (pm_alpha_deg * (J1820_time - ref_t))\n",
    "    fit_dec_proper = delta_0 + (pm_delta_deg * (J1820_time - ref_t))\n",
    "    fit_ra = fit_ra_proper + frac_alpha * parallax_deg\n",
    "    fit_dec = fit_dec_proper + frac_delta * parallax_deg\n",
    "    \n",
    "    J1820_ra_parallax_signal_trace.append(J1820_alpha* np.cos(np.radians(J1820_delta)) - fit_ra_proper)\n",
    "    J1820_dec_parallax_signal_trace.append(J1820_delta - fit_dec_proper)\n",
    "    J1820_ra_residual_trace.append(J1820_alpha* np.cos(np.radians(J1820_delta)) - fit_ra)\n",
    "    J1820_dec_residual_trace.append(J1820_delta - fit_dec)\n",
    "    \n",
    "    \n",
    "    \n",
    "\n",
    "time_array = np.linspace(np.min(J1820_time)-50, np.max(J1820_time)+50, 200)\n",
    "\n",
    "frac_alpha, frac_delta = skymotion.frac_parallax(time_array, np.mean(J1820_trace_2D['alpha 0']), \\\n",
    "                                                 np.mean(J1820_trace_2D['delta 0']) )\n",
    "\n",
    "parallax_deg = np.mean(J1820_trace_2D['parallax'])\n",
    "\n",
    "\n",
    "\n",
    "fig = plt.figure(figsize=(12,6))\n",
    "\n",
    "\n",
    "\n",
    "ax1 = fig.add_subplot(121)\n",
    "ax1.errorbar(np.median(J1820_ra_residual_trace, axis=0)*3.6e6*J1820_c_band_mask, np.median(J1820_dec_residual_trace, axis=0)*3.6e6*J1820_c_band_mask,\\\n",
    "             xerr=np.std(J1820_ra_residual_trace, axis=0)*3.6e6*J1820_c_band_mask, yerr=np.std(J1820_dec_residual_trace, axis=0)*3.6e6*J1820_c_band_mask,\\\n",
    "             fmt=' ', capsize=5,color=\"green\", alpha=0.5)\n",
    "\n",
    "\n",
    "x_array = np.linspace(-3, 3, 10)\n",
    "y_array = x_array*np.tan(np.radians(J1820_jet_angle + 90))\n",
    "ax1.plot(x_array, y_array, color=\"red\", label=r'$26^{\\circ}$ jet axis')\n",
    "ax1.set_title(\"15GHz residuals\",**hfont)\n",
    "ax1.set_xlabel(\"RA residual (mas)\",**hfont)\n",
    "ax1.set_ylabel(\"Dec residual (mas)\",**hfont)\n",
    "ax1.set_xlim(0.4, -0.4)\n",
    "ax1.set_ylim(-0.4, 0.4)\n",
    "ax1.legend()\n",
    "ax1.hlines(0, -4, 4, color='black', linestyle='dashed', alpha=0.5)\n",
    "ax1.vlines(0, -4, 4, color='black', linestyle='dashed', alpha=0.5)\n",
    "\n",
    "\n",
    "\n",
    "ax2 = fig.add_subplot(122)\n",
    "ax2.errorbar(np.median(J1820_ra_residual_trace, axis=0)*3.6e6*J1820_mask, np.median(J1820_dec_residual_trace, axis=0)*3.6e6*J1820_mask,\\\n",
    "             xerr=np.std(J1820_ra_residual_trace, axis=0)*3.6e6*J1820_mask, yerr=np.std(J1820_dec_residual_trace, axis=0)*3.6e6*J1820_mask,\\\n",
    "             fmt=' ', capsize=5,color=\"magenta\", alpha=0.5)\n",
    "\n",
    "\n",
    "x_array = np.linspace(-15, 15, 10)\n",
    "y_array = x_array*np.tan(np.radians(J1820_jet_angle + 90))\n",
    "ax2.plot(x_array, y_array, color=\"red\", label=r'$26^{\\circ}$ jet axis')\n",
    "ax2.set_title(\"5GHz residuals\",**hfont)\n",
    "ax2.set_xlabel(\"RA residual (mas)\",**hfont)\n",
    "ax2.set_ylabel(\"Dec residual (mas)\",**hfont)\n",
    "ax2.legend()\n",
    "ax2.hlines(0, -20, 20, color='black', linestyle='dashed', alpha=0.5)\n",
    "ax2.vlines(0, -20, 20, color='black', linestyle='dashed', alpha=0.5)\n",
    "ax2.legend()\n",
    "\n",
    "ax2.set_xlim(1, -1)\n",
    "ax2.set_ylim(-1, 1)\n",
    "\n",
    "\n",
    "ax1.set_aspect('equal')\n",
    "ax2.set_aspect('equal')\n",
    "\n",
    "\n",
    "\n",
    "\n",
    "plt.rcParams['axes.facecolor']='white'\n",
    "plt.rcParams['savefig.facecolor']='white'\n",
    "plt.savefig('18202Dresiduals.png')"
   ]
  },
  {
   "cell_type": "code",
   "execution_count": null,
   "id": "d7f17169-0abb-4100-a628-d961e52cea96",
   "metadata": {},
   "outputs": [],
   "source": []
  },
  {
   "cell_type": "code",
   "execution_count": null,
   "id": "c411ed9a-f3f1-4d4a-b892-0dcf4937107b",
   "metadata": {},
   "outputs": [],
   "source": []
  }
 ],
 "metadata": {
  "kernelspec": {
   "display_name": "Python 3",
   "language": "python",
   "name": "python3"
  },
  "language_info": {
   "codemirror_mode": {
    "name": "ipython",
    "version": 3
   },
   "file_extension": ".py",
   "mimetype": "text/x-python",
   "name": "python",
   "nbconvert_exporter": "python",
   "pygments_lexer": "ipython3",
   "version": "3.7.11"
  }
 },
 "nbformat": 4,
 "nbformat_minor": 5
}
